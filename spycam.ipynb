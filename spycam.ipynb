{
    "cells": [
        {
            "cell_type": "code",
            "execution_count": 9,
            "source": [
                "import cv2\r\n",
                "import dropbox\r\n",
                "import random\r\n",
                "import time\r\n",
                "\r\n",
                "startTime = time.time()\r\n",
                "\r\n",
                "def takeSnapshot():\r\n",
                "     randno = random.randint(1,5000)\r\n",
                "     imgName = \"spycaught\"+str(randno)+\".png\"\r\n",
                "     cam = cv2.VideoCapture(0)\r\n",
                "     result = True\r\n",
                "     while (result):\r\n",
                "       ret,frame = cam.read()\r\n",
                "       cv2.imwrite(imgName,frame)\r\n",
                "       result= False\r\n",
                "       return imgName\r\n",
                "     cam.release()\r\n",
                "     cv2.destroyAllWindows()\r\n",
                "def uploadImg (imgName):  \r\n",
                "    accessToken = \"tsuDlaBBRkIAAAAAAAAAAVfS-a6qotzjd34DlrQ1MRks7YgZZFadgj3CajcOEQNd\"\r\n",
                "    fileTo = \"/shotinhp/\"+imgName\r\n",
                "    fileFrom = imgName\r\n",
                "    dbx = dropbox.Dropbox(accessToken)\r\n",
                "    f = open(fileFrom,\"rb\")\r\n",
                "    dbx.files_upload(f.read(),fileTo)\r\n",
                "\r\n",
                "    print(\"fileUploaded\")\r\n",
                "\r\n",
                "def main():\r\n",
                " result = True   \r\n",
                " while(result): \r\n",
                "     if((time.time()-startTime)> 5):\r\n",
                "       \r\n",
                "      img = takeSnapshot()\r\n",
                "      uploadImg(img)\r\n",
                "\r\n",
                "main() \r\n",
                "     \r\n"
            ],
            "outputs": [
                {
                    "output_type": "stream",
                    "name": "stdout",
                    "text": [
                        "fileUploaded\n"
                    ]
                }
            ],
            "metadata": {}
        }
    ],
    "metadata": {
        "orig_nbformat": 4,
        "language_info": {
            "name": "python",
            "version": "3.9.6",
            "mimetype": "text/x-python",
            "codemirror_mode": {
                "name": "ipython",
                "version": 3
            },
            "pygments_lexer": "ipython3",
            "nbconvert_exporter": "python",
            "file_extension": ".py"
        },
        "kernelspec": {
            "name": "python3",
            "display_name": "Python 3.9.6 64-bit"
        },
        "interpreter": {
            "hash": "2df4a0fc58d062f4188963af88fb48819c84f149d46c49e91a1a81227d9adda2"
        }
    },
    "nbformat": 4,
    "nbformat_minor": 2
}